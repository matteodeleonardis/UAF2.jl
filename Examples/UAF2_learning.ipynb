{
 "cells": [
  {
   "cell_type": "markdown",
   "metadata": {},
   "source": [
    "# UAF2 (usage example)\n",
    "------------------------------"
   ]
  },
  {
   "cell_type": "markdown",
   "metadata": {},
   "source": [
    "## Importing data and preprocessing"
   ]
  },
  {
   "cell_type": "markdown",
   "metadata": {},
   "source": [
    "Set the variable `ENV[\"PHAGEDATAPATH\"]` to the directory where you want the downloaded data to be placed"
   ]
  },
  {
   "cell_type": "code",
   "execution_count": 1,
   "metadata": {},
   "outputs": [
    {
     "data": {
      "text/plain": [
       "\"/home/matteo/poliTo/Tesi/Data\""
      ]
     },
     "execution_count": 1,
     "metadata": {},
     "output_type": "execute_result"
    }
   ],
   "source": [
    "ENV[\"PHAGEDATAPATH\"]=\"/home/matteo/poliTo/Tesi/Data\""
   ]
  },
  {
   "cell_type": "code",
   "execution_count": 23,
   "metadata": {},
   "outputs": [],
   "source": [
    "using PhageData, PhageFields"
   ]
  },
  {
   "cell_type": "code",
   "execution_count": 3,
   "metadata": {},
   "outputs": [
    {
     "name": "stderr",
     "output_type": "stream",
     "text": [
      "\u001b[32m\u001b[1m Activating\u001b[22m\u001b[39m environment at `~/.julia/dev/UAF2/Project.toml`\n",
      "┌ Info: Precompiling UAF2 [244b466f-2ff5-4e2b-8ee1-d5607d91561a]\n",
      "└ @ Base loading.jl:1260\n"
     ]
    }
   ],
   "source": [
    "using Pkg\n",
    "Pkg.activate(\"/home/matteo/.julia/dev/UAF2\")\n",
    "using UAF2"
   ]
  },
  {
   "cell_type": "markdown",
   "metadata": {},
   "source": [
    "Import one among the possible dataset (Boyer, Fowler, Olson, Wu, Araya) with and easy sintax (`:boyer, :fowler, :olson, :wu, :araya`)"
   ]
  },
  {
   "cell_type": "code",
   "execution_count": 4,
   "metadata": {},
   "outputs": [],
   "source": [
    "rawdata = import_dataset(:boyer);"
   ]
  },
  {
   "cell_type": "markdown",
   "metadata": {},
   "source": [
    "filter out sequences that disappear and the reappear since they cannot be described by the model"
   ]
  },
  {
   "cell_type": "code",
   "execution_count": 9,
   "metadata": {},
   "outputs": [],
   "source": [
    "data = subdata(rawdata, not_disappearing(rawdata));"
   ]
  },
  {
   "cell_type": "markdown",
   "metadata": {},
   "source": [
    "add pseudocounts using `add_pseudocounts`"
   ]
  },
  {
   "cell_type": "code",
   "execution_count": 10,
   "metadata": {},
   "outputs": [],
   "source": [
    "data = add_pseudocounts(data, 0.5);"
   ]
  },
  {
   "cell_type": "markdown",
   "metadata": {},
   "source": [
    "filter out sequences for which counts go below `count_thr` during rounds in `rounds`"
   ]
  },
  {
   "cell_type": "code",
   "execution_count": 12,
   "metadata": {},
   "outputs": [],
   "source": [
    "count_thr = 3\n",
    "rounds = [1, 2] #filter out low counts sequences only in the first two rounds\n",
    "filter_counts(data, rounds, count_thr);"
   ]
  },
  {
   "cell_type": "markdown",
   "metadata": {},
   "source": [
    "## Defining the model"
   ]
  },
  {
   "cell_type": "markdown",
   "metadata": {},
   "source": [
    "store within the struct `Model` the model parameters using the model defined by `PhageFields` and the amplification factors $\\lambda(t)$ by indicating the number of rounds of the experiment"
   ]
  },
  {
   "cell_type": "code",
   "execution_count": 13,
   "metadata": {},
   "outputs": [
    {
     "data": {
      "text/plain": [
       "Model{20,4}(EpistasisMu{A=20, L=4}, [0.0, 0.0, 0.0, 0.0, 0.0, 0.0, 0.0, 0.0, 0.0, 0.0  …  0.0, 0.0, 0.0, 0.0, 0.0, 0.0, 0.0, 0.0, 0.0, 0.0], [0.0, 0.0], 20, 4, 3)"
      ]
     },
     "execution_count": 13,
     "metadata": {},
     "output_type": "execute_result"
    }
   ],
   "source": [
    "epistasis = EpistasisMu{data.A, data.L}()\n",
    "model = Model(epistasis, data.T)"
   ]
  },
  {
   "cell_type": "markdown",
   "metadata": {},
   "source": [
    "## Learning with single train-test split"
   ]
  },
  {
   "cell_type": "markdown",
   "metadata": {},
   "source": [
    "create train and test sets using `randtrain` from `PhageData`"
   ]
  },
  {
   "cell_type": "code",
   "execution_count": 14,
   "metadata": {},
   "outputs": [],
   "source": [
    "train_percentage = 0.8\n",
    "data_train, data_test = randtrain(data, round(Int, train_percentage*data.S));"
   ]
  },
  {
   "cell_type": "markdown",
   "metadata": {},
   "source": [
    "define some function that act as getters during the training for some quantity defined on model parameters"
   ]
  },
  {
   "cell_type": "code",
   "execution_count": 15,
   "metadata": {},
   "outputs": [],
   "source": [
    "get_lambda(m ,p ,d) = m.λ #gets λ(t) during the training\n",
    "get_mu(m, p, d) = [m.x[end]]; #gets the chemical potential μ during the training"
   ]
  },
  {
   "cell_type": "markdown",
   "metadata": {},
   "source": [
    "set some parameters for the learning ($\\Delta \\lambda$ is the minimum distance that $\\lambda(t)$ must keep from the border during the optimization)"
   ]
  },
  {
   "cell_type": "code",
   "execution_count": 17,
   "metadata": {},
   "outputs": [
    {
     "data": {
      "text/plain": [
       "Opt(LD_MMA, 2483)"
      ]
     },
     "execution_count": 17,
     "metadata": {},
     "output_type": "execute_result"
    }
   ],
   "source": [
    "prior = set_prior(100.0, model) #sets the gaussian prior to 0 mean and 100.0 as variance\n",
    "starting_point!(model, data_train) #sets a valid starting point in the parameters space \n",
    "opt = set_optimizer(:LD_MMA, model, data_train; ftol_rel = 1e-7, Δλ = 1e-10) #sets the optimizer"
   ]
  },
  {
   "cell_type": "markdown",
   "metadata": {},
   "source": [
    "perform the learning specifying in `monitor` a vector of getter methods of the quantities to monitor during the learning (note that the log-likelihood is always returned `logP`) "
   ]
  },
  {
   "cell_type": "code",
   "execution_count": 19,
   "metadata": {},
   "outputs": [
    {
     "data": {
      "text/plain": [
       "(Model{20,4}(EpistasisMu{A=20, L=4}, [-1.0239229088065844, 0.09828216697919119, -0.8062785745166191, -0.6545185597086348, 0.682228102382658, 0.587551815612245, 0.368990065000865, 0.6138139043317248, -0.24547613563389473, -0.6307967322836129  …  0.5685080982171244, 0.37532636990470436, 0.1287702534755204, -0.32217381646839655, 0.3678679681554685, -0.39906519073765767, 0.08059845221315894, -0.10756751234351335, 0.024546397022112244, -4.3412813501133005], [13.0000000001, 10.333333333433334], 20, 4, 3), :FTOL_REACHED, Any[-166053.3351900332, -169569.04544608007, -168487.67926403088, -160771.2058475873, -136819.46733001366, -230284.3297369694, -136308.42482195882, -132484.65097335816, -128578.54842422578, -128029.09616062473  …  -95219.31250017576, -95219.21692763633, -95219.2108802586, -95219.19709615066, -95223.71897060207, -95219.1513056698, -95219.14283183597, -95219.56643800357, -95219.14170409746, -95219.13762829106], Array{Any,1}[[[23.0, 20.333333333333336], [22.1, 19.433333333333337], [22.11791204551747, 19.44778655679229], [22.32594836745666, 19.651029029072724], [22.527214886575113, 19.973914267483206], [21.9035036470619, 19.374741722971613], [22.278552072123237, 19.749550358079688], [22.079264241124182, 19.531710714159413], [22.028789888509433, 19.485654205502367], [21.587074336248026, 19.036602527037807]  …  [13.0000000001, 10.333333333433334], [13.0000000001, 10.333333333433334], [13.0000000001, 10.333333333433334], [13.0000000001, 10.333333333433334], [13.0000000001, 10.333333333433334], [13.0000000001, 10.333333333433334], [13.0000000001, 10.333333333433334], [13.0000000001, 10.333333333433334], [13.0000000001, 10.333333333433334], [13.0000000001, 10.333333333433334]], [[-5.0], [-5.9], [-5.9], [-5.9], [-5.1539215209672395], [-4.268394781926753], [-4.471665246922848], [-5.095500009664418], [-4.743473288087419], [-4.351655863037308]  …  [-4.3412813501133005], [-4.3412813501133005], [-4.3412813501133005], [-4.3412813501133005], [-4.3412813501133005], [-4.3412813501133005], [-4.3412813501133005], [-4.3412813501133005], [-4.3412813501133005], [-4.3412813501133005]]])"
      ]
     },
     "execution_count": 19,
     "metadata": {},
     "output_type": "execute_result"
    }
   ],
   "source": [
    "model, ret, logP, properties = learn!(model, prior, opt, data_train; monitor = [get_lambda, get_mu]);"
   ]
  },
  {
   "cell_type": "code",
   "execution_count": 21,
   "metadata": {},
   "outputs": [
    {
     "data": {
      "text/plain": [
       "2-element Array{Array{Any,1},1}:\n",
       " [[23.0, 20.333333333333336], [22.1, 19.433333333333337], [22.11791204551747, 19.44778655679229], [22.32594836745666, 19.651029029072724], [22.527214886575113, 19.973914267483206], [21.9035036470619, 19.374741722971613], [22.278552072123237, 19.749550358079688], [22.079264241124182, 19.531710714159413], [22.028789888509433, 19.485654205502367], [21.587074336248026, 19.036602527037807]  …  [13.0000000001, 10.333333333433334], [13.0000000001, 10.333333333433334], [13.0000000001, 10.333333333433334], [13.0000000001, 10.333333333433334], [13.0000000001, 10.333333333433334], [13.0000000001, 10.333333333433334], [13.0000000001, 10.333333333433334], [13.0000000001, 10.333333333433334], [13.0000000001, 10.333333333433334], [13.0000000001, 10.333333333433334]]\n",
       " [[-5.0], [-5.9], [-5.9], [-5.9], [-5.1539215209672395], [-4.268394781926753], [-4.471665246922848], [-5.095500009664418], [-4.743473288087419], [-4.351655863037308]  …  [-4.3412813501133005], [-4.3412813501133005], [-4.3412813501133005], [-4.3412813501133005], [-4.3412813501133005], [-4.3412813501133005], [-4.3412813501133005], [-4.3412813501133005], [-4.3412813501133005], [-4.3412813501133005]]"
      ]
     },
     "execution_count": 21,
     "metadata": {},
     "output_type": "execute_result"
    }
   ],
   "source": [
    "properties"
   ]
  },
  {
   "cell_type": "markdown",
   "metadata": {},
   "source": [
    "## Plot some results"
   ]
  },
  {
   "cell_type": "code",
   "execution_count": 24,
   "metadata": {},
   "outputs": [],
   "source": [
    "using PyPlot"
   ]
  },
  {
   "cell_type": "markdown",
   "metadata": {},
   "source": [
    "loglikelihood"
   ]
  },
  {
   "cell_type": "code",
   "execution_count": 33,
   "metadata": {},
   "outputs": [
    {
     "data": {
      "image/png": "[encoded data removed]",
      "text/plain": [
       "Figure(PyObject <Figure size 640x480 with 1 Axes>)"
      ]
     },
     "metadata": {},
     "output_type": "display_data"
    }
   ],
   "source": [
    "plot(logP);"
   ]
  },
  {
   "cell_type": "markdown",
   "metadata": {},
   "source": [
    "$\\lambda(1)$"
   ]
  },
  {
   "cell_type": "code",
   "execution_count": 34,
   "metadata": {},
   "outputs": [
    {
     "data": {
      "image/png": "[encoded data removed]",
      "text/plain": [
       "Figure(PyObject <Figure size 640x480 with 1 Axes>)"
      ]
     },
     "metadata": {},
     "output_type": "display_data"
    }
   ],
   "source": [
    "λ1 = map(x -> x[1], properties[1]);\n",
    "plot(λ1);"
   ]
  },
  {
   "cell_type": "markdown",
   "metadata": {},
   "source": [
    "$\\mu$"
   ]
  },
  {
   "cell_type": "code",
   "execution_count": 35,
   "metadata": {},
   "outputs": [
    {
     "data": {
      "image/png": "[encoded data removed]",
      "text/plain": [
       "Figure(PyObject <Figure size 640x480 with 1 Axes>)"
      ]
     },
     "metadata": {},
     "output_type": "display_data"
    }
   ],
   "source": [
    "μ = map(x->x[1], properties[2])\n",
    "plot(μ);"
   ]
  },
  {
   "cell_type": "markdown",
   "metadata": {},
   "source": [
    "probability distribution:\n",
    "- use the learnt model to infer the energies and probabilities of the sequences using the function `inference`\n",
    "- plot the result"
   ]
  },
  {
   "cell_type": "code",
   "execution_count": 38,
   "metadata": {},
   "outputs": [],
   "source": [
    "etr, ptr = inference(model, data_train); #infer energies and binding probabilities on training set"
   ]
  },
  {
   "cell_type": "code",
   "execution_count": 39,
   "metadata": {},
   "outputs": [
    {
     "data": {
      "image/png": "[encoded data removed]",
      "text/plain": [
       "Figure(PyObject <Figure size 640x480 with 1 Axes>)"
      ]
     },
     "metadata": {},
     "output_type": "display_data"
    },
    {
     "data": {
      "text/plain": [
       "PyObject Text(24.000000000000007, 0.5, 'ps')"
      ]
     },
     "execution_count": 39,
     "metadata": {},
     "output_type": "execute_result"
    }
   ],
   "source": [
    "plot_distribution(etr, ptr); #plot the probability distribution"
   ]
  },
  {
   "cell_type": "markdown",
   "metadata": {},
   "source": [
    "## Crossvalidation"
   ]
  },
  {
   "cell_type": "markdown",
   "metadata": {},
   "source": [
    "crossvalidation can be performed in a single step by specifying all the needed parameters. Create some empty arrays to stores all the information produced during the various leanring.\n",
    "- `training_set`: actual training sets and indices of the samples from the whole dataset\n",
    "- `test_set`: same as above but for the test sets\n",
    "- `model_parameters`: model inferred at each time a different fold is left out\n",
    "- `L2reg`: priors used\n",
    "- `logP`: behaviour of the loglikelihood at each learning\n",
    "- `obs`: array containing all the quantities that are kept under control during the vriuos learnings. For instance `learn!` is run with `monitor=[quantity1, quantity2, ...]` and `obs[r][k]` is the value of quantity `k` when fold `r` is left out from the training set"
   ]
  },
  {
   "cell_type": "code",
   "execution_count": 40,
   "metadata": {},
   "outputs": [
    {
     "data": {
      "text/plain": [
       "0-element Array{Any,1}"
      ]
     },
     "execution_count": 40,
     "metadata": {},
     "output_type": "execute_result"
    }
   ],
   "source": [
    "training_set = [] \n",
    "test_set = []\n",
    "model_parameters = []\n",
    "outcomes = []\n",
    "L2reg = []\n",
    "logP = []\n",
    "obs = []"
   ]
  },
  {
   "cell_type": "code",
   "execution_count": 42,
   "metadata": {},
   "outputs": [
    {
     "name": "stdout",
     "output_type": "stream",
     "text": [
      "fold 1/5    ************************\n",
      "fold 2/5    ************************\n",
      "fold 3/5    ************************\n",
      "fold 4/5    ************************\n",
      "fold 5/5    ************************\n"
     ]
    }
   ],
   "source": [
    "prior_variance = 100.0\n",
    "nfolds = 5\n",
    "crossvalidation!(data, model, prior_variance, nfolds, training_set, test_set, model_parameters, outcomes, L2reg, \n",
    "    logP, obs; monitor=[get_lambda, get_mu]);"
   ]
  },
  {
   "cell_type": "markdown",
   "metadata": {},
   "source": [
    "## Plot some results"
   ]
  },
  {
   "cell_type": "code",
   "execution_count": null,
   "metadata": {},
   "outputs": [],
   "source": [
    "(etr, ptr), (ete, pte) = traintest_inferenceenceenceenceence(model_parameters, data_tain, data_test)"
   ]
  }
 ],
 "metadata": {
  "kernelspec": {
   "display_name": "Julia 1.4.0",
   "language": "julia",
   "name": "julia-1.4"
  },
  "language_info": {
   "file_extension": ".jl",
   "mimetype": "application/julia",
   "name": "julia",
   "version": "1.4.0"
  }
 },
 "nbformat": 4,
 "nbformat_minor": 2
}
